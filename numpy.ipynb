{
  "nbformat": 4,
  "nbformat_minor": 0,
  "metadata": {
    "colab": {
      "provenance": [],
      "authorship_tag": "ABX9TyPSmq2sd1kPEhUGidY650HG",
      "include_colab_link": true
    },
    "kernelspec": {
      "name": "python3",
      "display_name": "Python 3"
    },
    "language_info": {
      "name": "python"
    }
  },
  "cells": [
    {
      "cell_type": "markdown",
      "metadata": {
        "id": "view-in-github",
        "colab_type": "text"
      },
      "source": [
        "<a href=\"https://colab.research.google.com/github/silapareddypraveen/silapareddypraveen/blob/main/numpy.ipynb\" target=\"_parent\"><img src=\"https://colab.research.google.com/assets/colab-badge.svg\" alt=\"Open In Colab\"/></a>"
      ]
    },
    {
      "cell_type": "code",
      "execution_count": null,
      "metadata": {
        "colab": {
          "base_uri": "https://localhost:8080/"
        },
        "id": "21d-jq2m522V",
        "outputId": "5050c166-ab61-4fc8-9e44-26df2dba6922"
      },
      "outputs": [
        {
          "output_type": "stream",
          "name": "stdout",
          "text": [
            "[200   2 222  11]\n"
          ]
        }
      ],
      "source": [
        "import numpy as np\n",
        "a=np.array([200,2,222,11])\n",
        "print(a)"
      ]
    },
    {
      "cell_type": "code",
      "source": [
        "list=[1000,2222,5996]\n",
        "b=np.array(list)\n",
        "print(b)"
      ],
      "metadata": {
        "colab": {
          "base_uri": "https://localhost:8080/"
        },
        "id": "1nqqgrcu82nB",
        "outputId": "211025b9-8f3b-4b46-c047-3045acb7332a"
      },
      "execution_count": null,
      "outputs": [
        {
          "output_type": "stream",
          "name": "stdout",
          "text": [
            "[1000 2222 5996]\n"
          ]
        }
      ]
    },
    {
      "cell_type": "code",
      "source": [
        "c=np.arange(1,30,1)\n",
        "print(c)"
      ],
      "metadata": {
        "colab": {
          "base_uri": "https://localhost:8080/"
        },
        "id": "ZE71rCYt9mf5",
        "outputId": "62f28fec-4b6e-4b18-de6b-6c4fcd998a77"
      },
      "execution_count": null,
      "outputs": [
        {
          "output_type": "stream",
          "name": "stdout",
          "text": [
            "[ 1  2  3  4  5  6  7  8  9 10 11 12 13 14 15 16 17 18 19 20 21 22 23 24\n",
            " 25 26 27 28 29]\n"
          ]
        }
      ]
    },
    {
      "cell_type": "markdown",
      "source": [
        "2 dimentional array"
      ],
      "metadata": {
        "id": "B5xQq28k_RNm"
      }
    },
    {
      "cell_type": "code",
      "source": [
        "a=np.array([[22,55,56],[22,44,55]])\n",
        "b=np.array([[33,55,66],[666,888,999]])\n",
        "c=np.array([[55,88,99],[447,55,88]])\n",
        "d=np.array([[66,8,8],[333,555,666]])\n",
        "print(a)\n",
        "print(b[1][2])\n",
        "print(c[1][0])\n",
        "print(d[0][0])"
      ],
      "metadata": {
        "colab": {
          "base_uri": "https://localhost:8080/"
        },
        "id": "bVjn-Wfj-z0Z",
        "outputId": "c82dfefa-1608-4202-bb32-682755b6dec6"
      },
      "execution_count": null,
      "outputs": [
        {
          "output_type": "stream",
          "name": "stdout",
          "text": [
            "[[22 55 56]\n",
            " [22 44 55]]\n",
            "999\n",
            "447\n",
            "66\n"
          ]
        }
      ]
    },
    {
      "cell_type": "markdown",
      "source": [
        "3d\n"
      ],
      "metadata": {
        "id": "2DAXPald_rvG"
      }
    },
    {
      "cell_type": "code",
      "source": [
        "b=np.array([[[33,44,55,554],[333,6665,555,6666]],[[45,56,67,78],[666,888,999,9997]]])\n",
        "print(b[1][0][0])\n",
        "print(b)"
      ],
      "metadata": {
        "colab": {
          "base_uri": "https://localhost:8080/"
        },
        "id": "c_VZulZc_uB6",
        "outputId": "27b15cd0-8b92-4612-8a15-9c33045a8422"
      },
      "execution_count": null,
      "outputs": [
        {
          "output_type": "stream",
          "name": "stdout",
          "text": [
            "45\n",
            "[[[  33   44   55  554]\n",
            "  [ 333 6665  555 6666]]\n",
            "\n",
            " [[  45   56   67   78]\n",
            "  [ 666  888  999 9997]]]\n"
          ]
        }
      ]
    },
    {
      "cell_type": "code",
      "source": [
        "a=[[200,300],[400,500]]\n",
        "b=np.asarray(a,order=\"f\")\n",
        "print(b)\n",
        "for i in np.nditer(b):\n",
        "       print(i)"
      ],
      "metadata": {
        "colab": {
          "base_uri": "https://localhost:8080/"
        },
        "id": "ZVvG0DcEDmgr",
        "outputId": "490e15c3-9edf-4518-e789-8f427d310a8a"
      },
      "execution_count": null,
      "outputs": [
        {
          "output_type": "stream",
          "name": "stdout",
          "text": [
            "[[200 300]\n",
            " [400 500]]\n",
            "200\n",
            "400\n",
            "300\n",
            "500\n"
          ]
        }
      ]
    },
    {
      "cell_type": "code",
      "source": [
        "a=b\"FIRST YEAR  OF CSE STUDENTS\"\n",
        "np.frombuffer(a,dtype=\"S1\")"
      ],
      "metadata": {
        "colab": {
          "base_uri": "https://localhost:8080/"
        },
        "id": "Dfw2Fei2DuC_",
        "outputId": "969277bb-f8eb-41de-8946-29cd23cfcc92"
      },
      "execution_count": null,
      "outputs": [
        {
          "output_type": "execute_result",
          "data": {
            "text/plain": [
              "array([b'F', b'I', b'R', b'S', b'T', b' ', b'Y', b'E', b'A', b'R', b' ',\n",
              "       b' ', b'O', b'F', b' ', b'C', b'S', b'E', b' ', b'S', b'T', b'U',\n",
              "       b'D', b'E', b'N', b'T', b'S'], dtype='|S1')"
            ]
          },
          "metadata": {},
          "execution_count": 23
        }
      ]
    },
    {
      "cell_type": "code",
      "source": [
        "a=np.zeros(166)\n",
        "print(a)"
      ],
      "metadata": {
        "colab": {
          "base_uri": "https://localhost:8080/"
        },
        "id": "28M9nfGgFRm4",
        "outputId": "3214b625-88eb-42b8-e438-932677ebce01"
      },
      "execution_count": null,
      "outputs": [
        {
          "output_type": "stream",
          "name": "stdout",
          "text": [
            "[0. 0. 0. 0. 0. 0. 0. 0. 0. 0. 0. 0. 0. 0. 0. 0. 0. 0. 0. 0. 0. 0. 0. 0.\n",
            " 0. 0. 0. 0. 0. 0. 0. 0. 0. 0. 0. 0. 0. 0. 0. 0. 0. 0. 0. 0. 0. 0. 0. 0.\n",
            " 0. 0. 0. 0. 0. 0. 0. 0. 0. 0. 0. 0. 0. 0. 0. 0. 0. 0. 0. 0. 0. 0. 0. 0.\n",
            " 0. 0. 0. 0. 0. 0. 0. 0. 0. 0. 0. 0. 0. 0. 0. 0. 0. 0. 0. 0. 0. 0. 0. 0.\n",
            " 0. 0. 0. 0. 0. 0. 0. 0. 0. 0. 0. 0. 0. 0. 0. 0. 0. 0. 0. 0. 0. 0. 0. 0.\n",
            " 0. 0. 0. 0. 0. 0. 0. 0. 0. 0. 0. 0. 0. 0. 0. 0. 0. 0. 0. 0. 0. 0. 0. 0.\n",
            " 0. 0. 0. 0. 0. 0. 0. 0. 0. 0. 0. 0. 0. 0. 0. 0. 0. 0. 0. 0. 0. 0.]\n"
          ]
        }
      ]
    },
    {
      "cell_type": "code",
      "source": [
        "a = np.zeros([2,3,3],dtype=int)\n",
        "print(a)"
      ],
      "metadata": {
        "colab": {
          "base_uri": "https://localhost:8080/"
        },
        "id": "hmKUBwoqFV0X",
        "outputId": "426f859e-521c-4e33-b120-1e519d1b9d04"
      },
      "execution_count": null,
      "outputs": [
        {
          "output_type": "stream",
          "name": "stdout",
          "text": [
            "[[[0 0 0]\n",
            "  [0 0 0]\n",
            "  [0 0 0]]\n",
            "\n",
            " [[0 0 0]\n",
            "  [0 0 0]\n",
            "  [0 0 0]]]\n"
          ]
        }
      ]
    },
    {
      "cell_type": "code",
      "source": [
        "a=np.full([4,4],6)\n",
        "print(a)"
      ],
      "metadata": {
        "colab": {
          "base_uri": "https://localhost:8080/"
        },
        "id": "4xNlJuOrFbyG",
        "outputId": "b909def1-4df6-4907-e688-16c985237e3c"
      },
      "execution_count": null,
      "outputs": [
        {
          "output_type": "stream",
          "name": "stdout",
          "text": [
            "[[6 6 6 6]\n",
            " [6 6 6 6]\n",
            " [6 6 6 6]\n",
            " [6 6 6 6]]\n"
          ]
        }
      ]
    },
    {
      "cell_type": "code",
      "source": [
        "a=np.random.rand(2,2)\n",
        "print(a)"
      ],
      "metadata": {
        "colab": {
          "base_uri": "https://localhost:8080/"
        },
        "id": "gaKrfNMxFfKw",
        "outputId": "9341d2e5-a8e0-48a1-88fd-2f30a37c29ab"
      },
      "execution_count": null,
      "outputs": [
        {
          "output_type": "stream",
          "name": "stdout",
          "text": [
            "[[0.84025974 0.80262336]\n",
            " [0.33823416 0.29101333]]\n"
          ]
        }
      ]
    },
    {
      "cell_type": "code",
      "source": [
        "a=np.eye(6)\n",
        "print(a)"
      ],
      "metadata": {
        "colab": {
          "base_uri": "https://localhost:8080/"
        },
        "id": "7TWyygF5FlIc",
        "outputId": "899bba29-d9a6-4713-fad2-a78750ed7459"
      },
      "execution_count": null,
      "outputs": [
        {
          "output_type": "stream",
          "name": "stdout",
          "text": [
            "[[1. 0. 0. 0. 0. 0.]\n",
            " [0. 1. 0. 0. 0. 0.]\n",
            " [0. 0. 1. 0. 0. 0.]\n",
            " [0. 0. 0. 1. 0. 0.]\n",
            " [0. 0. 0. 0. 1. 0.]\n",
            " [0. 0. 0. 0. 0. 1.]]\n"
          ]
        }
      ]
    },
    {
      "cell_type": "code",
      "source": [
        "a=np.arange(1,22,5)\n",
        "print(a)"
      ],
      "metadata": {
        "colab": {
          "base_uri": "https://localhost:8080/"
        },
        "id": "21KRuMlNFuLW",
        "outputId": "f8d352ca-41db-4341-aee0-14ab6448986c"
      },
      "execution_count": null,
      "outputs": [
        {
          "output_type": "stream",
          "name": "stdout",
          "text": [
            "[ 1  6 11 16 21]\n"
          ]
        }
      ]
    },
    {
      "cell_type": "code",
      "source": [
        "a=np.arange(30,50,2)\n",
        "print(a)\n",
        "a.reshape(5,2)\n",
        "a.reshape(1,10)"
      ],
      "metadata": {
        "colab": {
          "base_uri": "https://localhost:8080/"
        },
        "id": "x_XnchjNFzOS",
        "outputId": "61d18500-75ea-4459-bee0-76a8d4f4096d"
      },
      "execution_count": null,
      "outputs": [
        {
          "output_type": "stream",
          "name": "stdout",
          "text": [
            "[30 32 34 36 38 40 42 44 46 48]\n"
          ]
        },
        {
          "output_type": "execute_result",
          "data": {
            "text/plain": [
              "array([[30, 32, 34, 36, 38, 40, 42, 44, 46, 48]])"
            ]
          },
          "metadata": {},
          "execution_count": 30
        }
      ]
    },
    {
      "cell_type": "code",
      "source": [
        "a=np.linspace(10,100,10,dtype=int)\n",
        "print(a)"
      ],
      "metadata": {
        "id": "nT-DX3bmF8jk"
      },
      "execution_count": null,
      "outputs": []
    }
  ]
}